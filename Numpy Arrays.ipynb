{
 "cells": [
  {
   "cell_type": "markdown",
   "id": "76d76cc7",
   "metadata": {},
   "source": [
    "Numpy stores data of same types so it is very fast,\n",
    "\n",
    "It is made to deal with numeric data mostly\n",
    "\n",
    "It serves as a replacement for matlab\n",
    "\n",
    "It is good to so many mathematics operations.\n",
    "\n",
    "It is the base of pandas, matplotlib etc."
   ]
  },
  {
   "cell_type": "code",
   "execution_count": 1,
   "id": "52c27c30",
   "metadata": {},
   "outputs": [],
   "source": [
    "import numpy as np"
   ]
  },
  {
   "cell_type": "code",
   "execution_count": 4,
   "id": "3964ffb8",
   "metadata": {},
   "outputs": [],
   "source": [
    "a = np.array([[[1,2,3],[4,5,6]],[[6,7,8],[12,13,14]],[[67,78,45],[38,45,69]]])"
   ]
  },
  {
   "cell_type": "code",
   "execution_count": 5,
   "id": "76b3d7de",
   "metadata": {},
   "outputs": [
    {
     "data": {
      "text/plain": [
       "array([[ 6,  7,  8],\n",
       "       [12, 13, 14]])"
      ]
     },
     "execution_count": 5,
     "metadata": {},
     "output_type": "execute_result"
    }
   ],
   "source": [
    "a[1]"
   ]
  },
  {
   "cell_type": "code",
   "execution_count": 6,
   "id": "6bf5fc7e",
   "metadata": {},
   "outputs": [
    {
     "data": {
      "text/plain": [
       "array([6, 7, 8])"
      ]
     },
     "execution_count": 6,
     "metadata": {},
     "output_type": "execute_result"
    }
   ],
   "source": [
    "a[1][0]"
   ]
  },
  {
   "cell_type": "code",
   "execution_count": 7,
   "id": "2990b7f1",
   "metadata": {},
   "outputs": [
    {
     "data": {
      "text/plain": [
       "8"
      ]
     },
     "execution_count": 7,
     "metadata": {},
     "output_type": "execute_result"
    }
   ],
   "source": [
    "a[1][0][2]"
   ]
  },
  {
   "cell_type": "code",
   "execution_count": 8,
   "id": "79cc8658",
   "metadata": {},
   "outputs": [
    {
     "data": {
      "text/plain": [
       "45"
      ]
     },
     "execution_count": 8,
     "metadata": {},
     "output_type": "execute_result"
    }
   ],
   "source": [
    "a[2,0,2]"
   ]
  },
  {
   "cell_type": "code",
   "execution_count": 9,
   "id": "86895cb8",
   "metadata": {},
   "outputs": [
    {
     "data": {
      "text/plain": [
       "numpy.ndarray"
      ]
     },
     "execution_count": 9,
     "metadata": {},
     "output_type": "execute_result"
    }
   ],
   "source": [
    "type(a)"
   ]
  },
  {
   "cell_type": "code",
   "execution_count": 10,
   "id": "0749febc",
   "metadata": {},
   "outputs": [
    {
     "data": {
      "text/plain": [
       "3"
      ]
     },
     "execution_count": 10,
     "metadata": {},
     "output_type": "execute_result"
    }
   ],
   "source": [
    "a.ndim"
   ]
  },
  {
   "cell_type": "code",
   "execution_count": 11,
   "id": "3a967bd1",
   "metadata": {},
   "outputs": [
    {
     "data": {
      "text/plain": [
       "(3, 2, 3)"
      ]
     },
     "execution_count": 11,
     "metadata": {},
     "output_type": "execute_result"
    }
   ],
   "source": [
    "a.shape"
   ]
  },
  {
   "cell_type": "code",
   "execution_count": 14,
   "id": "f4d9af6d",
   "metadata": {},
   "outputs": [],
   "source": [
    "a = np.arange(100)"
   ]
  },
  {
   "cell_type": "code",
   "execution_count": 15,
   "id": "7260c308",
   "metadata": {},
   "outputs": [
    {
     "data": {
      "text/plain": [
       "array([ 0,  1,  2,  3,  4,  5,  6,  7,  8,  9, 10, 11, 12, 13, 14, 15, 16,\n",
       "       17, 18, 19, 20, 21, 22, 23, 24, 25, 26, 27, 28, 29, 30, 31, 32, 33,\n",
       "       34, 35, 36, 37, 38, 39, 40, 41, 42, 43, 44, 45, 46, 47, 48, 49, 50,\n",
       "       51, 52, 53, 54, 55, 56, 57, 58, 59, 60, 61, 62, 63, 64, 65, 66, 67,\n",
       "       68, 69, 70, 71, 72, 73, 74, 75, 76, 77, 78, 79, 80, 81, 82, 83, 84,\n",
       "       85, 86, 87, 88, 89, 90, 91, 92, 93, 94, 95, 96, 97, 98, 99])"
      ]
     },
     "execution_count": 15,
     "metadata": {},
     "output_type": "execute_result"
    }
   ],
   "source": [
    "a"
   ]
  },
  {
   "cell_type": "code",
   "execution_count": 16,
   "id": "c7475298",
   "metadata": {},
   "outputs": [],
   "source": [
    "b = np.arange(12,20)"
   ]
  },
  {
   "cell_type": "code",
   "execution_count": 17,
   "id": "79afe327",
   "metadata": {},
   "outputs": [
    {
     "data": {
      "text/plain": [
       "array([12, 13, 14, 15, 16, 17, 18, 19])"
      ]
     },
     "execution_count": 17,
     "metadata": {},
     "output_type": "execute_result"
    }
   ],
   "source": [
    "b"
   ]
  },
  {
   "cell_type": "code",
   "execution_count": 24,
   "id": "586eb36e",
   "metadata": {},
   "outputs": [],
   "source": [
    "# with some gape if we want\n",
    "c = np.arange(10,100,10)"
   ]
  },
  {
   "cell_type": "code",
   "execution_count": 25,
   "id": "81bcbb76",
   "metadata": {},
   "outputs": [
    {
     "data": {
      "text/plain": [
       "array([10, 20, 30, 40, 50, 60, 70, 80, 90])"
      ]
     },
     "execution_count": 25,
     "metadata": {},
     "output_type": "execute_result"
    }
   ],
   "source": [
    "c"
   ]
  },
  {
   "cell_type": "code",
   "execution_count": 26,
   "id": "3d86649f",
   "metadata": {},
   "outputs": [],
   "source": [
    "# for random arrays\n",
    "\n",
    "random_array = np.random.permutation(np.arange(10))"
   ]
  },
  {
   "cell_type": "code",
   "execution_count": 27,
   "id": "52d8386e",
   "metadata": {},
   "outputs": [
    {
     "data": {
      "text/plain": [
       "array([6, 4, 2, 0, 9, 3, 5, 7, 1, 8])"
      ]
     },
     "execution_count": 27,
     "metadata": {},
     "output_type": "execute_result"
    }
   ],
   "source": [
    "random_array"
   ]
  },
  {
   "cell_type": "code",
   "execution_count": 40,
   "id": "436c7caa",
   "metadata": {},
   "outputs": [],
   "source": [
    "# for returning any random number between two set of numbers\n",
    "\n",
    "d = np.random.randint(20,30)"
   ]
  },
  {
   "cell_type": "code",
   "execution_count": 41,
   "id": "cc587e3b",
   "metadata": {},
   "outputs": [
    {
     "data": {
      "text/plain": [
       "20"
      ]
     },
     "execution_count": 41,
     "metadata": {},
     "output_type": "execute_result"
    }
   ],
   "source": [
    "d"
   ]
  },
  {
   "cell_type": "code",
   "execution_count": 44,
   "id": "ebde7568",
   "metadata": {},
   "outputs": [],
   "source": [
    "# to get random decimal numbers between 0 and 1\n",
    "\n",
    "A = np.random.rand(10)"
   ]
  },
  {
   "cell_type": "code",
   "execution_count": 45,
   "id": "525f8d91",
   "metadata": {},
   "outputs": [
    {
     "data": {
      "text/plain": [
       "array([0.18479187, 0.82330428, 0.5504169 , 0.01228533, 0.53876774,\n",
       "       0.20586792, 0.87869927, 0.89960823, 0.27079772, 0.86101733])"
      ]
     },
     "execution_count": 45,
     "metadata": {},
     "output_type": "execute_result"
    }
   ],
   "source": [
    "A"
   ]
  },
  {
   "cell_type": "code",
   "execution_count": 46,
   "id": "72751aa8",
   "metadata": {},
   "outputs": [],
   "source": [
    "import matplotlib.pyplot as plt"
   ]
  },
  {
   "cell_type": "code",
   "execution_count": 49,
   "id": "b8c1e547",
   "metadata": {},
   "outputs": [
    {
     "data": {
      "text/plain": [
       "(array([1., 0., 0., 0., 0., 0., 0., 0., 0., 0., 0., 0., 0., 0., 0., 0., 0.,\n",
       "        0., 0., 1., 0., 1., 0., 0., 0., 0., 0., 0., 0., 1., 0., 0., 0., 0.,\n",
       "        0., 0., 0., 0., 0., 0., 0., 0., 0., 0., 0., 0., 0., 0., 0., 0., 0.,\n",
       "        0., 0., 0., 0., 0., 0., 0., 0., 1., 1., 0., 0., 0., 0., 0., 0., 0.,\n",
       "        0., 0., 0., 0., 0., 0., 0., 0., 0., 0., 0., 0., 0., 0., 0., 0., 0.,\n",
       "        0., 0., 0., 0., 0., 0., 1., 0., 0., 0., 1., 0., 1., 0., 1.]),\n",
       " array([0.01228533, 0.02115856, 0.03003179, 0.03890502, 0.04777824,\n",
       "        0.05665147, 0.0655247 , 0.07439793, 0.08327116, 0.09214439,\n",
       "        0.10101762, 0.10989085, 0.11876408, 0.12763731, 0.13651053,\n",
       "        0.14538376, 0.15425699, 0.16313022, 0.17200345, 0.18087668,\n",
       "        0.18974991, 0.19862314, 0.20749637, 0.2163696 , 0.22524282,\n",
       "        0.23411605, 0.24298928, 0.25186251, 0.26073574, 0.26960897,\n",
       "        0.2784822 , 0.28735543, 0.29622866, 0.30510189, 0.31397511,\n",
       "        0.32284834, 0.33172157, 0.3405948 , 0.34946803, 0.35834126,\n",
       "        0.36721449, 0.37608772, 0.38496095, 0.39383418, 0.4027074 ,\n",
       "        0.41158063, 0.42045386, 0.42932709, 0.43820032, 0.44707355,\n",
       "        0.45594678, 0.46482001, 0.47369324, 0.48256647, 0.49143969,\n",
       "        0.50031292, 0.50918615, 0.51805938, 0.52693261, 0.53580584,\n",
       "        0.54467907, 0.5535523 , 0.56242553, 0.57129876, 0.58017198,\n",
       "        0.58904521, 0.59791844, 0.60679167, 0.6156649 , 0.62453813,\n",
       "        0.63341136, 0.64228459, 0.65115782, 0.66003105, 0.66890427,\n",
       "        0.6777775 , 0.68665073, 0.69552396, 0.70439719, 0.71327042,\n",
       "        0.72214365, 0.73101688, 0.73989011, 0.74876334, 0.75763656,\n",
       "        0.76650979, 0.77538302, 0.78425625, 0.79312948, 0.80200271,\n",
       "        0.81087594, 0.81974917, 0.8286224 , 0.83749563, 0.84636885,\n",
       "        0.85524208, 0.86411531, 0.87298854, 0.88186177, 0.890735  ,\n",
       "        0.89960823]),\n",
       " <BarContainer object of 100 artists>)"
      ]
     },
     "execution_count": 49,
     "metadata": {},
     "output_type": "execute_result"
    },
    {
     "data": {
      "image/png": "[encoded data removed]",
      "text/plain": [
       "<Figure size 432x288 with 1 Axes>"
      ]
     },
     "metadata": {
      "needs_background": "light"
     },
     "output_type": "display_data"
    }
   ],
   "source": [
    "plt.hist(A, bins = 100)"
   ]
  },
  {
   "cell_type": "code",
   "execution_count": 58,
   "id": "e8f6c442",
   "metadata": {},
   "outputs": [],
   "source": [
    "# to get normal random numbers or gaussian random numbers we do this\n",
    "\n",
    "c = np.random.randn(1000)"
   ]
  },
  {
   "cell_type": "code",
   "execution_count": 59,
   "id": "75e543d1",
   "metadata": {},
   "outputs": [
    {
     "data": {
      "text/plain": [
       "array([ 7.97375729e-01, -6.22305219e-01,  6.98498866e-01,  4.08662700e-01,\n",
       "        2.15167992e+00, -8.86966883e-02, -5.61891560e-02,  4.00250599e-01,\n",
       "       -1.02002725e+00,  4.71117953e-01,  6.70470185e-02,  4.11335977e-01,\n",
       "        5.58385375e-01, -1.14477230e+00,  4.73035074e-01,  2.97621143e+00,\n",
       "        6.09947061e-01, -8.92880321e-01, -1.37295985e+00,  8.69216787e-01,\n",
       "       -5.46501873e-01, -6.79517326e-01, -2.51800565e-01,  5.21618032e-01,\n",
       "       -5.51964712e-01,  4.38940010e-01, -3.81879612e-01,  6.53019843e-01,\n",
       "        2.74481455e-02, -7.60090366e-01, -2.76518137e-01, -1.24684855e+00,\n",
       "       -7.43771854e-01,  1.59950500e-01, -5.36124169e-01,  4.81492169e-01,\n",
       "        1.08838927e+00, -2.74874550e-01,  5.36498748e-01, -3.91226594e-01,\n",
       "        3.66335944e-01, -3.21038786e-01,  2.33068523e-01,  1.39571937e+00,\n",
       "       -2.52910320e+00, -8.36236052e-02, -9.01162877e-01, -9.75625473e-01,\n",
       "       -8.80287023e-01, -9.55101627e-01,  4.29928230e-01, -7.69285644e-01,\n",
       "       -1.91679781e+00, -6.78674126e-01, -3.94750405e-02, -1.30318372e+00,\n",
       "       -4.08359413e-01,  4.35198067e-01, -1.77482841e+00,  2.32170861e-01,\n",
       "       -1.10260730e+00,  8.69858046e-01,  9.04582550e-01,  1.28875200e-01,\n",
       "       -1.46460618e+00,  3.24792857e-02,  4.97548970e-01,  1.14855710e+00,\n",
       "       -5.46955274e-01, -1.59020501e+00,  9.99781799e-01,  7.13244858e-01,\n",
       "        2.47140946e+00,  7.50312641e-02, -1.02986050e+00, -4.92959598e-01,\n",
       "       -1.31170708e-01, -3.18724616e-01, -1.73729605e-01, -1.35626495e+00,\n",
       "       -6.59171811e-01, -8.84048168e-01,  1.72984998e+00, -1.35496591e+00,\n",
       "       -3.24953986e-01,  3.52885952e-01,  2.88267392e+00, -1.16834846e+00,\n",
       "        6.16935797e-01, -1.62648723e-01, -5.31362325e-01, -1.80846562e+00,\n",
       "       -2.20178293e-01, -1.67897166e+00,  1.29917781e+00, -2.78170201e-01,\n",
       "        1.49690795e+00, -1.86779365e-01, -1.09239588e+00, -6.87508172e-01,\n",
       "       -2.28036060e+00,  1.13101860e+00,  1.58902425e+00,  1.51532428e-01,\n",
       "       -2.04810578e+00, -1.21932882e+00, -1.81928858e-01,  1.15033161e-01,\n",
       "       -3.04254141e-01, -8.91762714e-01,  8.07544050e-01,  3.03068919e-01,\n",
       "       -9.10710647e-01,  9.90335001e-01,  3.01267556e-01,  2.54998238e-01,\n",
       "        8.31225968e-01,  2.59363927e-01, -4.80004967e-01, -1.30307854e+00,\n",
       "        3.73818616e+00, -1.68424892e+00,  1.30519362e+00,  1.93910828e-01,\n",
       "        1.63886739e-01,  1.31812557e+00, -7.89882652e-01, -9.16444388e-01,\n",
       "       -4.18853107e-01,  8.27337045e-01, -2.83115144e-01,  5.64976062e-01,\n",
       "        7.09113180e-01, -1.02650096e+00,  6.13245809e-01, -3.56317448e-01,\n",
       "       -5.14838502e-01,  1.47173301e+00, -2.65884397e-01,  6.21146399e-01,\n",
       "       -3.23589085e-01,  2.10336618e+00,  6.26773230e-01,  2.87147485e-01,\n",
       "        1.46776611e+00,  5.60518413e-01,  4.58817105e-03, -6.01173856e-01,\n",
       "        5.89384809e-01,  6.49143041e-01, -3.22372675e-01,  5.52382653e-01,\n",
       "       -4.26004681e-01,  2.01594403e+00,  6.14173842e-01,  1.06420791e+00,\n",
       "        1.54132913e+00,  5.51801742e-01, -1.78741253e-01, -2.24556559e+00,\n",
       "        1.19493334e+00,  3.96581172e-01, -6.36943526e-01,  2.12481656e+00,\n",
       "        2.00244292e-01,  1.56292837e+00, -3.68659917e-01,  2.51607442e-01,\n",
       "        1.11350320e+00, -9.60398075e-01,  1.81639676e+00,  1.02403027e+00,\n",
       "        7.54404262e-01, -2.64753187e+00, -1.03562894e+00,  1.43125808e+00,\n",
       "        2.81381258e-01,  9.44482130e-01, -9.18662777e-02,  5.84288331e-01,\n",
       "        6.60161812e-01,  1.54535831e+00, -1.09262106e+00, -1.42402130e+00,\n",
       "       -1.10528616e-01, -2.51206484e+00, -3.70188505e-01,  7.44727800e-01,\n",
       "        1.48378845e+00,  6.34167652e-01,  7.72234011e-01,  1.19495999e+00,\n",
       "        5.89400561e-01, -6.30043269e-01,  1.92296166e-01, -1.02483621e+00,\n",
       "       -1.01179926e-01,  1.77404951e-01,  2.76670113e-01,  7.59917675e-01,\n",
       "        6.28832724e-01,  3.52133344e-02, -3.67795407e-01, -3.48677421e-01,\n",
       "       -1.53082924e+00, -2.96504524e-01,  1.00834856e+00, -1.31650450e+00,\n",
       "        8.78505205e-01,  2.75947826e-01, -1.01141490e+00,  9.28363599e-01,\n",
       "        2.40001122e-02, -1.33720281e+00, -1.66997640e-01,  8.27431758e-01,\n",
       "        1.17660117e+00,  1.97636519e-01,  8.48178705e-01,  5.27086156e-01,\n",
       "        9.87735589e-02,  7.61281264e-01,  3.19340326e-01, -2.50030092e-01,\n",
       "        6.44811436e-01,  3.35197662e-01, -9.74231607e-01,  1.00996205e+00,\n",
       "       -1.74887503e-01, -1.77905885e+00, -2.44981488e-01, -7.11162298e-02,\n",
       "        2.16504313e+00, -8.01673944e-01, -6.18405325e-03, -1.19489708e-02,\n",
       "       -7.35902712e-01,  2.15002504e-01, -6.41306982e-01, -1.28990774e+00,\n",
       "       -7.24218298e-01,  1.18431060e+00,  3.87535921e-01,  4.00485552e-01,\n",
       "       -6.25669830e-02,  1.65551601e+00, -6.05853065e-01,  8.60914043e-01,\n",
       "        1.56620544e-01,  8.59027395e-01,  1.94257523e-01, -7.17694788e-01,\n",
       "        5.20606086e-01,  2.62200867e-01, -2.07410038e+00,  1.84310615e-01,\n",
       "        7.37524905e-01, -1.88732637e+00,  1.24414030e+00, -1.92672527e+00,\n",
       "        5.31451113e-02, -3.99630194e-01, -5.97565922e-01,  9.48448409e-02,\n",
       "        4.71495624e-01, -3.75468294e-01,  2.91428138e-01,  3.46210993e-01,\n",
       "       -8.02118262e-01,  7.01671315e-01, -1.33869326e+00,  1.53771632e+00,\n",
       "       -1.21274983e+00, -7.99635503e-01, -1.06967858e+00,  2.11253233e+00,\n",
       "        5.98523731e-01,  1.30190187e+00,  1.35187325e+00, -2.07538814e-01,\n",
       "        1.19246122e+00, -2.84266778e-01,  1.76212168e+00, -1.72971105e+00,\n",
       "        2.39414192e-01, -7.12513843e-01, -2.87761727e-01, -6.21368423e-01,\n",
       "       -6.29972044e-01,  1.60978251e-02,  5.64649339e-01, -2.11321678e-01,\n",
       "        5.31792952e-02,  3.86392687e-01,  2.45044277e-01, -4.23289257e-01,\n",
       "        1.08214185e+00,  1.14022487e+00, -7.25090642e-01, -2.92056443e-01,\n",
       "       -3.44644584e-01, -1.16002845e+00, -6.55001474e-01, -3.18667327e-01,\n",
       "        2.78849197e-01, -1.48470554e-01,  1.77069863e+00, -2.13381292e-01,\n",
       "        5.09460569e-02, -1.71423867e-01,  1.39002578e+00,  1.21623092e+00,\n",
       "        8.21320878e-02, -3.35358028e-01,  9.43339800e-02,  1.08931992e+00,\n",
       "        1.71578029e+00, -1.16525856e+00,  5.28324203e-01,  9.16021116e-01,\n",
       "       -2.66870213e-01, -1.60448254e+00,  3.05822106e-01, -2.32670691e+00,\n",
       "        1.82091729e+00, -5.72064218e-02,  5.52570517e-02, -1.38664769e+00,\n",
       "        1.75542571e+00,  5.35746857e-01, -1.00709805e+00,  9.95453555e-01,\n",
       "       -2.05263264e-01, -1.04289602e-01,  1.45373823e+00,  1.08653028e+00,\n",
       "        1.52623065e+00,  8.30839187e-01,  7.78346873e-03, -1.43822250e+00,\n",
       "       -9.31330580e-01, -6.15109820e-01, -7.06384510e-01, -1.38874198e-01,\n",
       "        1.78889604e+00, -1.40085699e+00, -1.72475616e+00,  3.28977140e-01,\n",
       "       -7.12291720e-01,  6.77069600e-01,  2.43987808e+00, -3.88590037e-01,\n",
       "        3.85011508e-01, -5.96845757e-01, -2.64498704e+00, -9.01545901e-01,\n",
       "        5.63854786e-01,  1.05026712e+00, -2.33301604e-01,  6.96453176e-01,\n",
       "        2.26285848e-01,  6.48210391e-01,  1.67612485e+00,  1.64633176e+00,\n",
       "       -1.00350954e+00,  1.00429434e+00, -1.09854119e+00,  6.75733837e-01,\n",
       "        1.48299486e+00,  1.12701926e+00, -5.65330646e-01, -5.75287321e-01,\n",
       "       -1.33200102e-01, -9.03144829e-02,  4.23358747e-01, -1.04363677e+00,\n",
       "       -3.45465398e-01, -1.11090235e+00,  5.83727746e-01,  7.24120882e-01,\n",
       "       -7.58421518e-01, -1.32026735e+00,  2.18590195e+00, -9.94632150e-01,\n",
       "        3.99198707e-01, -1.08037545e-01,  8.04171154e-04, -7.66739011e-03,\n",
       "       -1.55943292e+00,  8.38659794e-01,  7.59916353e-01, -1.15818365e+00,\n",
       "       -9.56297826e-01,  7.62808250e-01, -1.54997349e+00, -1.43293350e+00,\n",
       "       -7.09325468e-01, -3.46098379e-01,  9.37436765e-01, -1.38083139e+00,\n",
       "        9.26824495e-01,  2.15305567e-01,  1.17868347e+00, -1.41294798e-03,\n",
       "        8.54230427e-01,  1.80745815e+00,  1.28293885e+00, -1.32902290e+00,\n",
       "       -4.43071537e-01, -1.20114684e-01,  1.49767982e-01, -1.80590925e+00,\n",
       "        3.30311602e-01,  9.94237217e-01, -8.70445333e-02,  1.16634360e+00,\n",
       "       -5.26236572e-01,  1.52681895e+00,  1.40402382e+00,  2.50438365e-01,\n",
       "        1.30121858e-01,  3.59198815e-01,  3.41106791e+00, -3.60359194e-01,\n",
       "       -1.58939403e+00, -1.58222867e+00, -8.91352167e-01, -3.89678611e-01,\n",
       "       -1.34558153e+00,  5.84112836e-02, -2.63378510e+00,  1.05721248e+00,\n",
       "       -6.70701828e-01, -1.74191011e+00, -1.72736919e-01,  2.12859531e-01,\n",
       "        7.55314236e-02, -1.37799876e+00, -1.57861237e-01,  5.73986439e-01,\n",
       "       -4.19748493e-01, -2.23877519e+00,  1.43450324e-01,  8.22855068e-01,\n",
       "       -1.97562037e-01, -1.20912853e-01, -9.40675118e-01, -2.02430955e+00,\n",
       "        6.11506317e-01,  9.08501817e-01, -4.69011654e-01,  5.76946176e-02,\n",
       "       -1.67924167e+00, -4.86969523e-02, -9.05041411e-01, -3.84499087e+00,\n",
       "        1.72136453e+00,  2.30775302e-01, -1.47917304e-01, -1.03434178e+00,\n",
       "        1.15656250e+00, -5.30185433e-01,  6.27663988e-01, -1.46205067e-01,\n",
       "       -1.66718568e-01,  2.40260541e-01, -1.02334240e+00,  2.09232167e-02,\n",
       "       -8.25734907e-01,  5.10126177e-01, -6.80378749e-01,  3.11521046e-01,\n",
       "        3.06380746e-01,  3.08073964e-01, -3.17709796e-01,  4.97640378e-01,\n",
       "       -1.39662595e-01,  3.77871888e-01, -1.78143145e+00, -1.24049540e+00,\n",
       "        1.93080296e-01,  3.62761082e-01, -2.99650576e-01, -1.80735244e+00,\n",
       "       -5.91147159e-01, -1.08286091e+00, -2.93792818e-01, -3.07955985e-01,\n",
       "        7.53683551e-01, -1.25086889e+00, -2.94241116e-01, -2.91913758e-01,\n",
       "       -1.90855349e-01, -2.72632073e-02, -7.87923068e-02, -2.27987943e-01,\n",
       "        1.62956394e+00, -2.90158108e-01, -1.50334765e+00,  1.13586930e+00,\n",
       "        1.89442020e+00, -4.60886506e-01,  6.78055500e-01, -5.38677273e-01,\n",
       "        1.39656264e+00, -6.68660954e-01, -2.83047221e-01,  2.08644244e+00,\n",
       "        8.91014544e-01, -9.72371034e-02, -4.40091778e-01, -5.05332059e-02,\n",
       "       -5.59352907e-01,  6.99502392e-01, -8.21757605e-02,  5.57820495e-01,\n",
       "       -5.17691622e-01,  2.08919743e-01,  1.51506305e+00,  3.59205838e-01,\n",
       "       -2.55536659e-01,  1.22694642e+00, -7.17039285e-01, -1.15444827e+00,\n",
       "       -2.11657294e+00,  1.09272067e+00,  8.17493787e-01, -4.26252107e-01,\n",
       "       -1.62855361e-01, -1.52519104e+00, -1.99279676e-01,  1.25308207e+00,\n",
       "       -6.16779148e-01,  6.65830132e-01, -1.21913075e-01, -1.73904037e+00,\n",
       "        4.78842630e-01,  2.19153657e-01,  1.79795716e-01, -1.79594904e-01,\n",
       "        3.61606538e-01, -5.73510409e-01, -7.87455291e-02,  1.79729866e-01,\n",
       "       -8.17872608e-01,  1.06918998e-01, -1.05581784e-01, -5.72186549e-02,\n",
       "       -2.94180265e-01,  3.66515347e-01, -1.94202285e-02, -9.52767069e-01,\n",
       "        6.21115616e-01,  4.39600462e-01, -3.39834289e-01, -4.16987957e-01,\n",
       "        1.53242774e+00,  1.42023039e+00,  1.60022867e-01, -8.31372172e-02,\n",
       "        3.07539069e-01, -5.03225204e-01,  1.13375680e+00, -6.85794590e-01,\n",
       "        2.44567764e-01,  6.74431009e-01, -3.07591186e-03,  1.88441431e-02,\n",
       "       -1.50885039e+00,  9.82963460e-01,  1.42826580e+00,  1.22058396e+00,\n",
       "       -7.96030376e-01, -2.07447972e+00, -1.16882586e+00,  1.03507019e+00,\n",
       "        2.34475552e-01,  3.36007242e-01,  7.76692726e-02, -8.69715281e-01,\n",
       "        1.13863373e+00,  5.65024578e-01, -1.02637887e+00,  3.60396761e-01,\n",
       "        4.13414448e-01,  5.06151070e-01, -5.77521832e-01, -1.24492766e+00,\n",
       "        3.83072704e-01, -2.90063757e-01, -1.21855785e+00, -7.16580927e-01,\n",
       "        1.43456250e+00, -1.22842613e+00, -1.01006092e+00, -5.47427028e-01,\n",
       "       -5.84101110e-01, -7.96557335e-01,  4.39427081e-01,  5.16287164e-01,\n",
       "       -1.28476584e+00,  8.39686513e-01,  1.24006348e-01,  5.74148922e-01,\n",
       "       -2.81444453e-01,  1.39950282e-01, -5.47976807e-01,  1.14004465e+00,\n",
       "        9.66716210e-01,  1.57937151e+00, -6.48684822e-01, -1.42199355e+00,\n",
       "       -2.22890583e-01,  8.15502208e-01,  9.21659967e-01,  8.61032018e-01,\n",
       "       -5.83774019e-01, -3.12586637e-01,  7.70406902e-01,  9.81001710e-01,\n",
       "       -6.82031362e-01, -1.35399978e+00, -1.44912077e+00, -2.25102543e-02,\n",
       "        3.11688798e-01,  8.82769840e-01, -8.61465307e-01,  1.73820825e-01,\n",
       "        7.78546780e-02, -1.97239965e+00,  7.92673337e-01,  3.44302276e-01,\n",
       "        1.56684416e+00,  1.04115970e+00, -1.41142561e+00, -7.71140445e-01,\n",
       "       -1.00200211e+00,  3.10297944e-01, -6.55037744e-01, -7.66313449e-02,\n",
       "        2.35841972e+00,  3.47914111e-01,  8.70174109e-02, -2.95826898e-01,\n",
       "       -3.80536151e-01, -7.38609977e-01, -2.97850934e-01, -8.19209032e-01,\n",
       "        3.02364055e-01, -1.14962884e+00,  1.36904246e-01,  7.62524448e-01,\n",
       "        1.11033277e+00,  1.21679133e+00, -5.11852858e-01, -7.56655020e-02,\n",
       "       -8.45409620e-01, -1.87091584e+00,  4.09352915e-01, -5.16065986e-01,\n",
       "       -1.02640105e-01,  7.86027604e-01, -2.10444546e+00, -1.18903301e-01,\n",
       "       -3.63455546e-01,  3.38156094e-01,  1.49278883e+00,  2.01669308e+00,\n",
       "       -1.00349847e+00, -6.66026175e-01, -2.72409231e-01,  6.86218247e-01,\n",
       "        5.87665288e-01, -1.08939076e+00, -9.64201393e-01, -7.28541729e-02,\n",
       "        2.23525892e-01, -1.00561869e+00, -3.14175712e-01, -7.68877622e-01,\n",
       "       -1.84431154e+00,  1.32041348e+00,  1.21951158e+00,  3.91778488e-01,\n",
       "        2.73371963e-01, -3.24109889e+00,  5.10375646e-01,  1.16571117e-01,\n",
       "       -5.74768883e-01, -2.84845525e-01,  2.03022126e-01,  4.88594702e-01,\n",
       "        1.78730780e-01,  4.74137183e-01,  3.40124300e-01, -6.12112899e-02,\n",
       "        1.60639117e+00, -2.84096048e-01, -7.11679095e-01,  9.46492289e-02,\n",
       "        4.84338745e-01,  4.10275937e-01, -1.00694952e+00,  2.43950924e-01,\n",
       "        1.87017142e+00, -1.01066846e+00,  1.31684616e+00,  4.12913624e-01,\n",
       "        5.44055700e-01,  1.42984174e+00, -2.20543201e+00, -1.08235792e+00,\n",
       "        1.70794138e-01, -1.20908859e-01, -5.71811611e-01, -2.52019536e-01,\n",
       "        6.79246158e-01, -1.75865362e-01, -2.11946468e+00, -1.10470371e+00,\n",
       "       -6.33732189e-01, -2.19259616e-01, -1.74627355e-01,  4.65817304e-01,\n",
       "       -1.81751725e+00,  1.91309098e+00,  1.82435864e+00,  1.48712092e+00,\n",
       "       -7.92058175e-01, -8.19520729e-01, -5.60788663e-01,  1.09432515e+00,\n",
       "       -2.21600701e+00,  2.13012290e-01,  1.11964795e-01, -9.46329564e-01,\n",
       "        3.21541161e-01,  3.69330063e-02, -1.95334261e+00,  7.87205394e-01,\n",
       "        1.14136727e+00,  5.70133005e-01,  5.46079976e-01, -6.15977064e-01,\n",
       "        4.41976311e-01, -8.06364114e-01, -1.44420839e+00, -1.08011178e+00,\n",
       "        1.44128166e+00, -2.19816495e-01, -1.24453274e+00, -3.85221303e-01,\n",
       "        2.17629651e+00, -1.30774818e+00, -1.22616780e+00,  1.13404967e+00,\n",
       "        6.69358138e-01, -1.17253896e+00, -1.13800241e+00,  2.87101168e-01,\n",
       "        5.75155591e-01, -7.75946252e-02,  3.94007065e-02, -4.80700718e-02,\n",
       "        2.24288919e+00, -1.20474787e-02,  8.87300948e-01, -4.34653093e-01,\n",
       "        4.78614718e-01,  1.33470047e+00,  5.61770237e-01,  2.53025208e-01,\n",
       "        4.09077289e-01,  4.08881094e-01,  6.12904752e-01, -7.70325323e-01,\n",
       "        9.96383476e-01,  7.38489130e-01,  7.00464518e-01,  9.40404844e-01,\n",
       "       -5.51072421e-01,  6.72222779e-01, -1.12076996e-01,  2.54225172e-01,\n",
       "        2.65047772e-01, -1.27621742e+00,  1.23828850e+00, -6.70150122e-01,\n",
       "       -1.26070746e+00, -1.47811763e+00,  1.11977326e+00,  7.99800493e-01,\n",
       "        1.21537049e-01,  3.51896041e-01,  3.80036064e-01, -4.89984470e-01,\n",
       "       -8.36653776e-01, -4.85395317e-01, -1.60940395e-01, -8.39709931e-01,\n",
       "        9.68644997e-04, -4.14191033e-01,  2.90752312e-01, -8.69407385e-01,\n",
       "       -2.98600518e-01,  2.18216030e-02, -4.05023085e-01, -1.01862768e+00,\n",
       "       -1.00358148e+00,  1.52700832e+00, -1.76772435e+00, -2.14327022e+00,\n",
       "       -2.80281600e-01,  1.43808611e+00, -1.64616911e-01, -1.49276720e+00,\n",
       "       -5.80821117e-01,  3.51964338e-01, -1.30894738e+00, -1.45910868e+00,\n",
       "       -3.14473953e-01, -6.24921851e-01,  4.62898068e-01, -1.57146266e+00,\n",
       "       -6.37379922e-01,  2.79340060e-02, -5.71814624e-01, -1.17963604e+00,\n",
       "       -4.40353917e-01, -2.71940497e-01,  1.67167708e+00,  4.79467244e-01,\n",
       "       -3.94202496e-01,  5.68926786e-01,  1.19051645e+00, -3.02234033e-01,\n",
       "       -6.85358056e-01,  7.07240564e-01,  1.08084990e+00, -8.60070830e-01,\n",
       "        1.37489067e+00, -1.02662801e+00, -1.01936190e+00,  4.59287295e-01,\n",
       "       -7.33015268e-01, -7.66322111e-01, -7.83336091e-02,  1.87773113e+00,\n",
       "       -8.87097360e-01, -2.05353022e-01, -1.18408646e+00,  9.87118592e-02,\n",
       "       -2.08465880e+00, -1.00366290e+00, -1.01787075e+00,  2.91584170e-01,\n",
       "       -9.72231032e-01,  1.61478450e-01,  8.97182526e-01,  9.32886090e-01,\n",
       "       -4.20606357e-01, -2.93076340e-01,  9.97779210e-01, -7.52116569e-01,\n",
       "       -1.46567454e-01,  4.94723041e-01,  6.60178659e-01,  1.51049468e+00,\n",
       "       -5.61382915e-01, -3.34890425e-01, -4.04283200e-02, -5.28024402e-01,\n",
       "        9.83502475e-01, -1.29425467e-01,  6.14474418e-01,  3.15473675e-01,\n",
       "        5.70635693e-01, -2.44974997e-01,  1.19445754e+00,  8.49813415e-01,\n",
       "       -6.57038184e-01,  1.31679462e+00,  6.24741199e-02, -5.96967517e-01,\n",
       "       -1.06511021e+00, -1.49852011e+00, -6.16577910e-01, -1.71839149e-01,\n",
       "        7.52114631e-02, -3.95254866e-02, -7.83082224e-01, -9.12665197e-01,\n",
       "        2.40314771e+00,  7.04457128e-02,  1.71709405e-01,  3.84050089e-01,\n",
       "        1.67795549e+00,  2.28344612e+00,  2.62684489e-01,  5.94237022e-01,\n",
       "       -1.02225887e+00, -1.36057843e-01, -1.66072994e+00,  1.58644047e+00,\n",
       "        1.47016834e+00, -8.31358948e-01, -7.33861212e-01,  4.82619457e-01,\n",
       "        1.14441013e+00,  2.76590319e-01,  9.61224480e-02, -3.16831576e-01,\n",
       "        1.33040170e+00, -2.33612547e-01,  1.53076174e+00,  1.62693510e+00,\n",
       "        9.14509386e-02,  5.42142109e-01, -1.15682558e+00,  6.09216930e-01,\n",
       "        1.59853288e+00,  6.49733375e-01, -1.88669212e+00,  8.68641035e-01,\n",
       "       -2.71936565e-01,  1.01893127e+00,  1.49665933e+00, -1.11697058e+00,\n",
       "        4.83510577e-01, -1.45768393e+00,  6.97967198e-01,  8.18786523e-02,\n",
       "        6.56854579e-01, -1.23220567e+00, -1.30053765e+00, -1.32786720e+00,\n",
       "        1.52363412e-01, -4.26634071e-01,  9.36245633e-02,  7.52304373e-01,\n",
       "        1.22645710e+00, -1.57834365e+00, -2.16394278e+00, -1.11740815e+00,\n",
       "       -1.66149027e+00, -4.63122399e-02, -2.82640824e-01,  1.90197756e+00,\n",
       "       -1.16525898e+00, -2.34056060e+00,  1.05335898e-01, -9.22203262e-01,\n",
       "       -9.27301191e-01, -9.06068920e-01,  6.34837095e-02,  5.00401227e-01,\n",
       "        1.23392569e+00,  6.37855279e-01, -2.92556640e-01,  1.14221914e-01,\n",
       "       -4.95900713e-02,  2.00693537e-01,  8.50387802e-01, -1.32308648e-01,\n",
       "        5.44182047e-01,  5.55100040e-01,  2.77352851e-01,  7.06807708e-01,\n",
       "       -8.20093103e-01, -3.04965101e-01,  1.37640176e+00, -5.64699139e-01,\n",
       "       -7.21289565e-01, -9.43898640e-01,  1.63691799e-01, -1.05806577e+00,\n",
       "        3.58986567e-01, -7.13540068e-01, -7.08162888e-01, -1.85800041e+00,\n",
       "        2.25199823e-01, -5.36086451e-01, -9.30541686e-01, -9.50858791e-02,\n",
       "        2.64962235e-01,  9.39928912e-01,  1.29746989e+00, -1.41348813e+00,\n",
       "        3.01700676e-01,  2.94858876e-01, -6.18446732e-01, -5.74716395e-01,\n",
       "        1.93244360e+00,  1.54149789e+00, -2.09715775e-01, -1.21070352e+00,\n",
       "       -9.16500413e-02,  9.70053256e-01, -1.51685459e+00,  3.53287259e-01])"
      ]
     },
     "execution_count": 59,
     "metadata": {},
     "output_type": "execute_result"
    }
   ],
   "source": [
    "c"
   ]
  },
  {
   "cell_type": "code",
   "execution_count": 64,
   "id": "9d1df2e4",
   "metadata": {},
   "outputs": [
    {
     "data": {
      "text/plain": [
       "(array([  1.,   0.,   1.,   0.,   3.,   3.,  12.,  13.,  23.,  35.,  50.,\n",
       "         68.,  86.,  73., 120.,  93., 106.,  95.,  59.,  52.,  36.,  35.,\n",
       "         16.,  10.,   6.,   0.,   2.,   0.,   1.,   1.]),\n",
       " array([-3.84499087, -3.5922183 , -3.33944573, -3.08667316, -2.8339006 ,\n",
       "        -2.58112803, -2.32835546, -2.07558289, -1.82281033, -1.57003776,\n",
       "        -1.31726519, -1.06449262, -0.81172006, -0.55894749, -0.30617492,\n",
       "        -0.05340235,  0.19937021,  0.45214278,  0.70491535,  0.95768792,\n",
       "         1.21046048,  1.46323305,  1.71600562,  1.96877819,  2.22155075,\n",
       "         2.47432332,  2.72709589,  2.97986845,  3.23264102,  3.48541359,\n",
       "         3.73818616]),\n",
       " <BarContainer object of 30 artists>)"
      ]
     },
     "execution_count": 64,
     "metadata": {},
     "output_type": "execute_result"
    },
    {
     "data": {
      "image/png": "[encoded data removed]",
      "text/plain": [
       "<Figure size 432x288 with 1 Axes>"
      ]
     },
     "metadata": {
      "needs_background": "light"
     },
     "output_type": "display_data"
    }
   ],
   "source": [
    "plt.hist(c, bins = 30)"
   ]
  },
  {
   "cell_type": "markdown",
   "id": "f5fd4339",
   "metadata": {},
   "source": [
    "# we can see the numbers follows the bell curve shape of the normal distribution"
   ]
  },
  {
   "cell_type": "markdown",
   "id": "01ac5323",
   "metadata": {},
   "source": [
    "we can create multi dimentional arrays using this as well"
   ]
  },
  {
   "cell_type": "code",
   "execution_count": 66,
   "id": "082f2449",
   "metadata": {},
   "outputs": [],
   "source": [
    "c = np.random.rand(2,3)"
   ]
  },
  {
   "cell_type": "code",
   "execution_count": 67,
   "id": "f1057d08",
   "metadata": {},
   "outputs": [
    {
     "data": {
      "text/plain": [
       "array([[0.460034  , 0.25976031, 0.20521728],\n",
       "       [0.82907437, 0.27880862, 0.3139699 ]])"
      ]
     },
     "execution_count": 67,
     "metadata": {},
     "output_type": "execute_result"
    }
   ],
   "source": [
    "c"
   ]
  },
  {
   "cell_type": "markdown",
   "id": "afc413db",
   "metadata": {},
   "source": [
    "so this is a two dimetional numpy array where we have 2 two-d items which have 3 -1D elements inside it"
   ]
  },
  {
   "cell_type": "markdown",
   "id": "d13caac7",
   "metadata": {},
   "source": [
    "# reshape formula,\n",
    "used to change the shape of given input array"
   ]
  },
  {
   "cell_type": "code",
   "execution_count": 70,
   "id": "e8d5479f",
   "metadata": {},
   "outputs": [],
   "source": [
    "d = np.arange(100).reshape(10,10)"
   ]
  },
  {
   "cell_type": "code",
   "execution_count": 71,
   "id": "433fd1d6",
   "metadata": {},
   "outputs": [
    {
     "data": {
      "text/plain": [
       "array([[ 0,  1,  2,  3,  4,  5,  6,  7,  8,  9],\n",
       "       [10, 11, 12, 13, 14, 15, 16, 17, 18, 19],\n",
       "       [20, 21, 22, 23, 24, 25, 26, 27, 28, 29],\n",
       "       [30, 31, 32, 33, 34, 35, 36, 37, 38, 39],\n",
       "       [40, 41, 42, 43, 44, 45, 46, 47, 48, 49],\n",
       "       [50, 51, 52, 53, 54, 55, 56, 57, 58, 59],\n",
       "       [60, 61, 62, 63, 64, 65, 66, 67, 68, 69],\n",
       "       [70, 71, 72, 73, 74, 75, 76, 77, 78, 79],\n",
       "       [80, 81, 82, 83, 84, 85, 86, 87, 88, 89],\n",
       "       [90, 91, 92, 93, 94, 95, 96, 97, 98, 99]])"
      ]
     },
     "execution_count": 71,
     "metadata": {},
     "output_type": "execute_result"
    }
   ],
   "source": [
    "d"
   ]
  },
  {
   "cell_type": "markdown",
   "id": "e90033f5",
   "metadata": {},
   "source": [
    " here we can see np.arange will give us 100 numbers which is the numbers from 0 to 99\n",
    "    and then we are reshaping it to 2D array by using .reshape module"
   ]
  },
  {
   "cell_type": "code",
   "execution_count": 73,
   "id": "0dd057e6",
   "metadata": {},
   "outputs": [
    {
     "data": {
      "text/plain": [
       "(10, 10)"
      ]
     },
     "execution_count": 73,
     "metadata": {},
     "output_type": "execute_result"
    }
   ],
   "source": [
    "d.shape"
   ]
  },
  {
   "cell_type": "code",
   "execution_count": 75,
   "id": "08c0532e",
   "metadata": {},
   "outputs": [],
   "source": [
    "d = np.arange(100).reshape(20,5)"
   ]
  },
  {
   "cell_type": "code",
   "execution_count": 76,
   "id": "07363553",
   "metadata": {},
   "outputs": [
    {
     "data": {
      "text/plain": [
       "array([[ 0,  1,  2,  3,  4],\n",
       "       [ 5,  6,  7,  8,  9],\n",
       "       [10, 11, 12, 13, 14],\n",
       "       [15, 16, 17, 18, 19],\n",
       "       [20, 21, 22, 23, 24],\n",
       "       [25, 26, 27, 28, 29],\n",
       "       [30, 31, 32, 33, 34],\n",
       "       [35, 36, 37, 38, 39],\n",
       "       [40, 41, 42, 43, 44],\n",
       "       [45, 46, 47, 48, 49],\n",
       "       [50, 51, 52, 53, 54],\n",
       "       [55, 56, 57, 58, 59],\n",
       "       [60, 61, 62, 63, 64],\n",
       "       [65, 66, 67, 68, 69],\n",
       "       [70, 71, 72, 73, 74],\n",
       "       [75, 76, 77, 78, 79],\n",
       "       [80, 81, 82, 83, 84],\n",
       "       [85, 86, 87, 88, 89],\n",
       "       [90, 91, 92, 93, 94],\n",
       "       [95, 96, 97, 98, 99]])"
      ]
     },
     "execution_count": 76,
     "metadata": {},
     "output_type": "execute_result"
    }
   ],
   "source": [
    "d"
   ]
  },
  {
   "cell_type": "code",
   "execution_count": null,
   "id": "be9ffeb2",
   "metadata": {},
   "outputs": [],
   "source": []
  }
 ],
 "metadata": {
  "kernelspec": {
   "display_name": "Python 3 (ipykernel)",
   "language": "python",
   "name": "python3"
  },
  "language_info": {
   "codemirror_mode": {
    "name": "ipython",
    "version": 3
   },
   "file_extension": ".py",
   "mimetype": "text/x-python",
   "name": "python",
   "nbconvert_exporter": "python",
   "pygments_lexer": "ipython3",
   "version": "3.9.12"
  }
 },
 "nbformat": 4,
 "nbformat_minor": 5
}
